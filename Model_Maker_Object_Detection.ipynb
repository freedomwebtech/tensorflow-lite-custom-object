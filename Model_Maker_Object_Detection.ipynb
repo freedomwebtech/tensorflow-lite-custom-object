{
  "cells": [
    {
      "cell_type": "markdown",
      "metadata": {
        "id": "rPHUIJzLxUxU"
      },
      "source": [
        "<a href=\"https://colab.research.google.com/github/khanhlvg/tflite_raspberry_pi/blob/main/object_detection/Train_custom_model_tutorial.ipynb\" target=\"_parent\"><img src=\"https://colab.research.google.com/assets/colab-badge.svg\" alt=\"Open In Colab\"/></a>"
      ]
    },
    {
      "cell_type": "markdown",
      "metadata": {
        "id": "gf2if_fGDaWc"
      },
      "source": [
        "##### Copyright 2021 The TensorFlow Authors."
      ]
    },
    {
      "cell_type": "code",
      "execution_count": null,
      "metadata": {
        "cellView": "form",
        "id": "jrmj83afDJrv"
      },
      "outputs": [],
      "source": [
        "#@title Licensed under the Apache License, Version 2.0 (the \"License\");\n",
        "# you may not use this file except in compliance with the License.\n",
        "# You may obtain a copy of the License at\n",
        "#\n",
        "# https://www.apache.org/licenses/LICENSE-2.0\n",
        "#\n",
        "# Unless required by applicable law or agreed to in writing, software\n",
        "# distributed under the License is distributed on an \"AS IS\" BASIS,\n",
        "# WITHOUT WARRANTIES OR CONDITIONS OF ANY KIND, either express or implied.\n",
        "# See the License for the specific language governing permissions and\n",
        "# limitations under the License."
      ]
    },
    {
      "cell_type": "markdown",
      "metadata": {
        "id": "PpJEzDG6DK2Q"
      },
      "source": [
        "# Train a custom object detection model with TensorFlow Lite Model Maker\n",
        "\n",
        "In this colab notebook, you'll learn how to use the [TensorFlow Lite Model Maker](https://www.tensorflow.org/lite/guide/model_maker) to train a custom object detection model to detect Android figurines and how to put the model on a Raspberry Pi.\n",
        "\n",
        "The Model Maker library uses *transfer learning* to simplify the process of training a TensorFlow Lite model using a custom dataset. Retraining a TensorFlow Lite model with your own custom dataset reduces the amount of training data required and will shorten the training time.\n"
      ]
    },
    {
      "cell_type": "markdown",
      "metadata": {
        "id": "BRYjtwRZGBOI"
      },
      "source": [
        "## Preparation\n",
        "\n",
        "### Install the required packages\n",
        "Start by installing the required packages, including the Model Maker package from the [GitHub repo](https://github.com/tensorflow/examples/tree/master/tensorflow_examples/lite/model_maker) and the pycocotools library you'll use for evaluation."
      ]
    },
    {
      "cell_type": "code",
      "execution_count": 1,
      "metadata": {
        "colab": {
          "base_uri": "https://localhost:8080/"
        },
        "id": "35BJmtVpAP_n",
        "outputId": "0845c0b1-0b1a-40b8-a38d-d28e716d78b4"
      },
      "outputs": [
        {
          "output_type": "stream",
          "name": "stdout",
          "text": [
            "\u001b[?25l\r\u001b[K     |▌                               | 10 kB 34.9 MB/s eta 0:00:01\r\u001b[K     |█                               | 20 kB 19.1 MB/s eta 0:00:01\r\u001b[K     |█▋                              | 30 kB 16.2 MB/s eta 0:00:01\r\u001b[K     |██▏                             | 40 kB 14.1 MB/s eta 0:00:01\r\u001b[K     |██▋                             | 51 kB 7.1 MB/s eta 0:00:01\r\u001b[K     |███▏                            | 61 kB 7.2 MB/s eta 0:00:01\r\u001b[K     |███▊                            | 71 kB 7.9 MB/s eta 0:00:01\r\u001b[K     |████▎                           | 81 kB 8.8 MB/s eta 0:00:01\r\u001b[K     |████▉                           | 92 kB 9.0 MB/s eta 0:00:01\r\u001b[K     |█████▎                          | 102 kB 7.0 MB/s eta 0:00:01\r\u001b[K     |█████▉                          | 112 kB 7.0 MB/s eta 0:00:01\r\u001b[K     |██████▍                         | 122 kB 7.0 MB/s eta 0:00:01\r\u001b[K     |███████                         | 133 kB 7.0 MB/s eta 0:00:01\r\u001b[K     |███████▍                        | 143 kB 7.0 MB/s eta 0:00:01\r\u001b[K     |████████                        | 153 kB 7.0 MB/s eta 0:00:01\r\u001b[K     |████████▌                       | 163 kB 7.0 MB/s eta 0:00:01\r\u001b[K     |█████████                       | 174 kB 7.0 MB/s eta 0:00:01\r\u001b[K     |█████████▋                      | 184 kB 7.0 MB/s eta 0:00:01\r\u001b[K     |██████████                      | 194 kB 7.0 MB/s eta 0:00:01\r\u001b[K     |██████████▋                     | 204 kB 7.0 MB/s eta 0:00:01\r\u001b[K     |███████████▏                    | 215 kB 7.0 MB/s eta 0:00:01\r\u001b[K     |███████████▊                    | 225 kB 7.0 MB/s eta 0:00:01\r\u001b[K     |████████████▏                   | 235 kB 7.0 MB/s eta 0:00:01\r\u001b[K     |████████████▊                   | 245 kB 7.0 MB/s eta 0:00:01\r\u001b[K     |█████████████▎                  | 256 kB 7.0 MB/s eta 0:00:01\r\u001b[K     |█████████████▉                  | 266 kB 7.0 MB/s eta 0:00:01\r\u001b[K     |██████████████▍                 | 276 kB 7.0 MB/s eta 0:00:01\r\u001b[K     |██████████████▉                 | 286 kB 7.0 MB/s eta 0:00:01\r\u001b[K     |███████████████▍                | 296 kB 7.0 MB/s eta 0:00:01\r\u001b[K     |████████████████                | 307 kB 7.0 MB/s eta 0:00:01\r\u001b[K     |████████████████▌               | 317 kB 7.0 MB/s eta 0:00:01\r\u001b[K     |█████████████████               | 327 kB 7.0 MB/s eta 0:00:01\r\u001b[K     |█████████████████▌              | 337 kB 7.0 MB/s eta 0:00:01\r\u001b[K     |██████████████████              | 348 kB 7.0 MB/s eta 0:00:01\r\u001b[K     |██████████████████▋             | 358 kB 7.0 MB/s eta 0:00:01\r\u001b[K     |███████████████████▏            | 368 kB 7.0 MB/s eta 0:00:01\r\u001b[K     |███████████████████▋            | 378 kB 7.0 MB/s eta 0:00:01\r\u001b[K     |████████████████████▏           | 389 kB 7.0 MB/s eta 0:00:01\r\u001b[K     |████████████████████▊           | 399 kB 7.0 MB/s eta 0:00:01\r\u001b[K     |█████████████████████▎          | 409 kB 7.0 MB/s eta 0:00:01\r\u001b[K     |█████████████████████▉          | 419 kB 7.0 MB/s eta 0:00:01\r\u001b[K     |██████████████████████▎         | 430 kB 7.0 MB/s eta 0:00:01\r\u001b[K     |██████████████████████▉         | 440 kB 7.0 MB/s eta 0:00:01\r\u001b[K     |███████████████████████▍        | 450 kB 7.0 MB/s eta 0:00:01\r\u001b[K     |████████████████████████        | 460 kB 7.0 MB/s eta 0:00:01\r\u001b[K     |████████████████████████▍       | 471 kB 7.0 MB/s eta 0:00:01\r\u001b[K     |█████████████████████████       | 481 kB 7.0 MB/s eta 0:00:01\r\u001b[K     |█████████████████████████▌      | 491 kB 7.0 MB/s eta 0:00:01\r\u001b[K     |██████████████████████████      | 501 kB 7.0 MB/s eta 0:00:01\r\u001b[K     |██████████████████████████▋     | 512 kB 7.0 MB/s eta 0:00:01\r\u001b[K     |███████████████████████████     | 522 kB 7.0 MB/s eta 0:00:01\r\u001b[K     |███████████████████████████▋    | 532 kB 7.0 MB/s eta 0:00:01\r\u001b[K     |████████████████████████████▏   | 542 kB 7.0 MB/s eta 0:00:01\r\u001b[K     |████████████████████████████▊   | 552 kB 7.0 MB/s eta 0:00:01\r\u001b[K     |█████████████████████████████▏  | 563 kB 7.0 MB/s eta 0:00:01\r\u001b[K     |█████████████████████████████▊  | 573 kB 7.0 MB/s eta 0:00:01\r\u001b[K     |██████████████████████████████▎ | 583 kB 7.0 MB/s eta 0:00:01\r\u001b[K     |██████████████████████████████▉ | 593 kB 7.0 MB/s eta 0:00:01\r\u001b[K     |███████████████████████████████▍| 604 kB 7.0 MB/s eta 0:00:01\r\u001b[K     |███████████████████████████████▉| 614 kB 7.0 MB/s eta 0:00:01\r\u001b[K     |████████████████████████████████| 616 kB 7.0 MB/s \n",
            "\u001b[K     |████████████████████████████████| 87 kB 7.5 MB/s \n",
            "\u001b[K     |████████████████████████████████| 77 kB 6.4 MB/s \n",
            "\u001b[K     |████████████████████████████████| 1.1 MB 57.4 MB/s \n",
            "\u001b[K     |████████████████████████████████| 213 kB 63.7 MB/s \n",
            "\u001b[K     |████████████████████████████████| 1.2 MB 58.1 MB/s \n",
            "\u001b[K     |████████████████████████████████| 120 kB 69.8 MB/s \n",
            "\u001b[K     |████████████████████████████████| 1.1 MB 68.2 MB/s \n",
            "\u001b[K     |████████████████████████████████| 3.4 MB 48.4 MB/s \n",
            "\u001b[K     |████████████████████████████████| 6.4 MB 53.9 MB/s \n",
            "\u001b[K     |████████████████████████████████| 840 kB 52.9 MB/s \n",
            "\u001b[K     |████████████████████████████████| 596 kB 66.1 MB/s \n",
            "\u001b[K     |████████████████████████████████| 25.3 MB 1.5 MB/s \n",
            "\u001b[K     |████████████████████████████████| 352 kB 57.4 MB/s \n",
            "\u001b[K     |████████████████████████████████| 47.7 MB 108 kB/s \n",
            "\u001b[K     |████████████████████████████████| 99 kB 12.3 MB/s \n",
            "\u001b[K     |████████████████████████████████| 210 kB 69.4 MB/s \n",
            "\u001b[?25h  Building wheel for fire (setup.py) ... \u001b[?25l\u001b[?25hdone\n",
            "  Building wheel for py-cpuinfo (setup.py) ... \u001b[?25l\u001b[?25hdone\n"
          ]
        }
      ],
      "source": [
        "!pip install -q tflite-model-maker\n",
        "!pip install -q tflite-support"
      ]
    },
    {
      "cell_type": "markdown",
      "metadata": {
        "id": "prQ86DdtD317"
      },
      "source": [
        "Import the required packages."
      ]
    },
    {
      "cell_type": "code",
      "execution_count": 2,
      "metadata": {
        "id": "l4QQTXHHATDS"
      },
      "outputs": [],
      "source": [
        "import numpy as np\n",
        "import os\n",
        "\n",
        "from tflite_model_maker.config import ExportFormat, QuantizationConfig\n",
        "from tflite_model_maker import model_spec\n",
        "from tflite_model_maker import object_detector\n",
        "\n",
        "from tflite_support import metadata\n",
        "\n",
        "import tensorflow as tf\n",
        "assert tf.__version__.startswith('2')\n",
        "\n",
        "tf.get_logger().setLevel('ERROR')\n",
        "from absl import logging\n",
        "logging.set_verbosity(logging.ERROR)"
      ]
    },
    {
      "cell_type": "markdown",
      "metadata": {
        "id": "Yxh3KInCFeB-"
      },
      "source": [
        "## Train the object detection model\n",
        "\n",
        "### Step 1: Load the dataset\n",
        "\n",
        "* Images in `train_data` is used to train the custom object detection model.\n",
        "* Images in `val_data` is used to check if the model can generalize well to new images that it hasn't seen before."
      ]
    },
    {
      "cell_type": "code",
      "metadata": {
        "id": "9e9ZW3sqMEPO",
        "outputId": "2b897b68-7e2a-496e-8938-3229013ebbaa",
        "colab": {
          "base_uri": "https://localhost:8080/"
        }
      },
      "source": [
        "from google.colab import drive\n",
        "drive.mount('/content/gdrive')\n",
        "!ln -s /content/gdrive/My\\ Drive/ /mydrive\n",
        "!ls /mydrive"
      ],
      "execution_count": 3,
      "outputs": [
        {
          "output_type": "stream",
          "name": "stdout",
          "text": [
            "Mounted at /content/gdrive\n",
            "'Colab Notebooks'   freedomtech.zip   yolov3\n"
          ]
        }
      ]
    },
    {
      "cell_type": "code",
      "source": [
        "!unzip /mydrive/freedomtech.zip"
      ],
      "metadata": {
        "id": "bSk8i67yykbk",
        "outputId": "0684aa1f-02e3-4d9e-bd35-7be3c9d9f630",
        "colab": {
          "base_uri": "https://localhost:8080/"
        }
      },
      "execution_count": 4,
      "outputs": [
        {
          "output_type": "stream",
          "name": "stdout",
          "text": [
            "Archive:  /mydrive/freedomtech.zip\n",
            "   creating: freedomtech/train/\n",
            "  inflating: freedomtech/train/IMG_20220118_073141.jpg  \n",
            "  inflating: freedomtech/train/IMG_20220117_184918.jpg  \n",
            "  inflating: freedomtech/train/IMG_20220117_184607.jpg  \n",
            "  inflating: freedomtech/train/IMG_20220118_072843.jpg  \n",
            "  inflating: freedomtech/train/IMG_20220117_184539.jpg  \n",
            "  inflating: freedomtech/train/IMG_20220118_072632.jpg  \n",
            "  inflating: freedomtech/train/IMG_20220117_184940.jpg  \n",
            "  inflating: freedomtech/train/IMG_20220117_185008.jpg  \n",
            "  inflating: freedomtech/train/IMG_20220118_073137.xml  \n",
            "  inflating: freedomtech/train/IMG_20220117_184913.jpg  \n",
            "  inflating: freedomtech/train/IMG_20220117_184247.jpg  \n",
            "  inflating: freedomtech/train/IMG_20220118_073221.jpg  \n",
            "  inflating: freedomtech/train/IMG_20220118_072802.jpg  \n",
            "  inflating: freedomtech/train/IMG_20220118_073115.xml  \n",
            "  inflating: freedomtech/train/IMG_20220117_184947.xml  \n",
            "  inflating: freedomtech/train/IMG_20220117_184502.jpg  \n",
            "  inflating: freedomtech/train/IMG_20220118_072519.jpg  \n",
            "  inflating: freedomtech/train/IMG_20220118_073212.jpg  \n",
            "  inflating: freedomtech/train/IMG_20220117_184502.xml  \n",
            "  inflating: freedomtech/train/IMG_20220117_184247.xml  \n",
            "  inflating: freedomtech/train/IMG_20220117_184709.jpg  \n",
            "  inflating: freedomtech/train/IMG_20220117_184225.xml  \n",
            "  inflating: freedomtech/train/IMG_20220118_072709.jpg  \n",
            "  inflating: freedomtech/train/IMG_20220118_072843.xml  \n",
            "  inflating: freedomtech/train/IMG_20220117_184844.jpg  \n",
            "  inflating: freedomtech/train/IMG_20220117_184743.jpg  \n",
            "  inflating: freedomtech/train/IMG_20220117_184304.jpg  \n",
            "  inflating: freedomtech/train/IMG_20220117_184947.jpg  \n",
            "  inflating: freedomtech/train/IMG_20220117_184554.xml  \n",
            "  inflating: freedomtech/train/IMG_20220117_184317.xml  \n",
            "  inflating: freedomtech/train/IMG_20220118_073004.jpg  \n",
            "  inflating: freedomtech/train/IMG_20220118_073129.xml  \n",
            "  inflating: freedomtech/train/IMG_20220118_073129.jpg  \n",
            "  inflating: freedomtech/train/IMG_20220117_184558.xml  \n",
            "  inflating: freedomtech/train/IMG_20220117_184243.xml  \n",
            "  inflating: freedomtech/train/IMG_20220117_184251.jpg  \n",
            "  inflating: freedomtech/train/IMG_20220117_185008.xml  \n",
            "  inflating: freedomtech/train/IMG_20220118_074100.jpg  \n",
            "  inflating: freedomtech/train/IMG_20220118_073137.jpg  \n",
            "  inflating: freedomtech/train/IMG_20220118_072519.xml  \n",
            "  inflating: freedomtech/train/IMG_20220117_184705.jpg  \n",
            "  inflating: freedomtech/train/IMG_20220118_073212.xml  \n",
            "  inflating: freedomtech/train/IMG_20220117_184439.jpg  \n",
            "  inflating: freedomtech/train/IMG_20220117_184544.xml  \n",
            "  inflating: freedomtech/train/IMG_20220117_184333.jpg  \n",
            "  inflating: freedomtech/train/IMG_20220118_072648.jpg  \n",
            "  inflating: freedomtech/train/IMG_20220117_184243.jpg  \n",
            "  inflating: freedomtech/train/IMG_20220117_184614.xml  \n",
            "  inflating: freedomtech/train/IMG_20220118_072826.jpg  \n",
            "  inflating: freedomtech/train/IMG_20220117_184743.xml  \n",
            "  inflating: freedomtech/train/IMG_20220118_074050.xml  \n",
            "  inflating: freedomtech/train/IMG_20220118_072548.jpg  \n",
            "  inflating: freedomtech/train/IMG_20220117_184333.xml  \n",
            "  inflating: freedomtech/train/IMG_20220117_184726.xml  \n",
            "  inflating: freedomtech/train/IMG_20220117_184240.xml  \n",
            "  inflating: freedomtech/train/IMG_20220117_184626.xml  \n",
            "  inflating: freedomtech/train/IMG_20220117_184257.jpg  \n",
            "  inflating: freedomtech/train/IMG_20220118_072844.jpg  \n",
            "  inflating: freedomtech/train/IMG_20220118_073025.jpg  \n",
            "  inflating: freedomtech/train/IMG_20220118_072833.xml  \n",
            "  inflating: freedomtech/train/IMG_20220118_072619.xml  \n",
            "  inflating: freedomtech/train/IMG_20220117_184844.xml  \n",
            "  inflating: freedomtech/train/IMG_20220118_072709.xml  \n",
            "  inflating: freedomtech/train/IMG_20220118_074111.jpg  \n",
            "  inflating: freedomtech/train/IMG_20220118_073036.jpg  \n",
            "  inflating: freedomtech/train/IMG_20220118_073121.jpg  \n",
            "  inflating: freedomtech/train/IMG_20220117_184309.jpg  \n",
            "  inflating: freedomtech/train/IMG_20220118_074111.xml  \n",
            "  inflating: freedomtech/train/IMG_20220117_184959.xml  \n",
            "  inflating: freedomtech/train/IMG_20220117_184317.jpg  \n",
            "  inflating: freedomtech/train/IMG_20220117_184736.xml  \n",
            "  inflating: freedomtech/train/IMG_20220117_184614.jpg  \n",
            "  inflating: freedomtech/train/IMG_20220118_073036.xml  \n",
            "  inflating: freedomtech/train/IMG_20220117_184607.xml  \n",
            "  inflating: freedomtech/train/IMG_20220118_074016.jpg  \n",
            "  inflating: freedomtech/train/IMG_20220118_074040.jpg  \n",
            "  inflating: freedomtech/train/IMG_20220118_072619.jpg  \n",
            "  inflating: freedomtech/train/IMG_20220117_184855.xml  \n",
            "  inflating: freedomtech/train/IMG_20220117_184455.jpg  \n",
            "  inflating: freedomtech/train/IMG_20220117_184111.jpg  \n",
            "  inflating: freedomtech/train/IMG_20220118_073025.xml  \n",
            "  inflating: freedomtech/train/IMG_20220117_184439.xml  \n",
            "  inflating: freedomtech/train/IMG_20220118_072833.jpg  \n",
            "  inflating: freedomtech/train/IMG_20220117_184230.xml  \n",
            "  inflating: freedomtech/train/IMG_20220117_184111.xml  \n",
            "  inflating: freedomtech/train/IMG_20220117_184554.jpg  \n",
            "  inflating: freedomtech/train/IMG_20220117_184259.xml  \n",
            "  inflating: freedomtech/train/IMG_20220118_073004.xml  \n",
            "  inflating: freedomtech/train/IMG_20220118_074040.xml  \n",
            "  inflating: freedomtech/train/IMG_20220118_072648.xml  \n",
            "  inflating: freedomtech/train/IMG_20220117_184723.xml  \n",
            "  inflating: freedomtech/train/IMG_20220117_184304.xml  \n",
            "  inflating: freedomtech/train/IMG_20220117_184455.xml  \n",
            "  inflating: freedomtech/train/IMG_20220117_184931.xml  \n",
            "  inflating: freedomtech/train/IMG_20220117_184230.jpg  \n",
            "  inflating: freedomtech/train/IMG_20220117_184433.jpg  \n",
            "  inflating: freedomtech/train/IMG_20220118_073221.xml  \n",
            "  inflating: freedomtech/train/IMG_20220117_184539.xml  \n",
            "  inflating: freedomtech/train/IMG_20220117_184956.xml  \n",
            "  inflating: freedomtech/train/IMG_20220118_072844.xml  \n",
            "  inflating: freedomtech/train/IMG_20220117_184203.jpg  \n",
            "  inflating: freedomtech/train/IMG_20220118_073139.jpg  \n",
            "  inflating: freedomtech/train/IMG_20220118_074050.jpg  \n",
            "  inflating: freedomtech/train/IMG_20220117_184705.xml  \n",
            "  inflating: freedomtech/train/IMG_20220117_184251.xml  \n",
            "  inflating: freedomtech/train/IMG_20220117_184709.xml  \n",
            "  inflating: freedomtech/train/IMG_20220117_184933.xml  \n",
            "  inflating: freedomtech/train/IMG_20220117_184544.jpg  \n",
            "  inflating: freedomtech/train/IMG_20220117_184320.jpg  \n",
            "  inflating: freedomtech/train/IMG_20220117_184726.jpg  \n",
            "  inflating: freedomtech/train/IMG_20220118_072548.xml  \n",
            "  inflating: freedomtech/train/IMG_20220118_072642.jpg  \n",
            "  inflating: freedomtech/train/IMG_20220117_184240.jpg  \n",
            "  inflating: freedomtech/train/IMG_20220117_184610.jpg  \n",
            "  inflating: freedomtech/train/IMG_20220118_074016.xml  \n",
            "  inflating: freedomtech/train/IMG_20220117_184257.xml  \n",
            "  inflating: freedomtech/train/IMG_20220117_184320.xml  \n",
            "  inflating: freedomtech/train/IMG_20220118_072642.xml  \n",
            "  inflating: freedomtech/train/IMG_20220118_073215.xml  \n",
            "  inflating: freedomtech/train/IMG_20220117_184309.xml  \n",
            "  inflating: freedomtech/train/IMG_20220117_184855.jpg  \n",
            "  inflating: freedomtech/train/IMG_20220117_184940.xml  \n",
            "  inflating: freedomtech/train/IMG_20220118_073139.xml  \n",
            "  inflating: freedomtech/train/IMG_20220118_072826.xml  \n",
            "  inflating: freedomtech/train/IMG_20220117_184225.jpg  \n",
            "  inflating: freedomtech/train/IMG_20220117_184918.xml  \n",
            "  inflating: freedomtech/train/IMG_20220117_184259.jpg  \n",
            "  inflating: freedomtech/train/IMG_20220118_073215.jpg  \n",
            "  inflating: freedomtech/train/IMG_20220118_074100.xml  \n",
            "  inflating: freedomtech/train/IMG_20220117_184325.xml  \n",
            "  inflating: freedomtech/train/IMG_20220118_074022.xml  \n",
            "  inflating: freedomtech/train/IMG_20220117_184959.jpg  \n",
            "  inflating: freedomtech/train/IMG_20220118_074022.jpg  \n",
            "  inflating: freedomtech/train/IMG_20220118_073121.xml  \n",
            "  inflating: freedomtech/train/IMG_20220117_184736.jpg  \n",
            "  inflating: freedomtech/train/IMG_20220117_184956.jpg  \n",
            "  inflating: freedomtech/train/IMG_20220117_184626.jpg  \n",
            "  inflating: freedomtech/train/IMG_20220118_073141.xml  \n",
            "  inflating: freedomtech/train/IMG_20220117_184723.jpg  \n",
            "  inflating: freedomtech/train/IMG_20220118_072632.xml  \n",
            "  inflating: freedomtech/train/IMG_20220117_184933.jpg  \n",
            "  inflating: freedomtech/train/IMG_20220117_184433.xml  \n",
            "  inflating: freedomtech/train/IMG_20220117_184558.jpg  \n",
            "  inflating: freedomtech/train/IMG_20220118_073115.jpg  \n",
            "  inflating: freedomtech/train/IMG_20220118_073208.jpg  \n",
            "  inflating: freedomtech/train/IMG_20220117_184325.jpg  \n",
            "  inflating: freedomtech/train/IMG_20220117_184610.xml  \n",
            "  inflating: freedomtech/train/IMG_20220117_184203.xml  \n",
            "  inflating: freedomtech/train/IMG_20220117_184931.jpg  \n",
            "  inflating: freedomtech/train/IMG_20220117_184913.xml  \n",
            "  inflating: freedomtech/train/IMG_20220118_073208.xml  \n",
            "  inflating: freedomtech/train/IMG_20220118_072802.xml  \n",
            "   creating: freedomtech/validate/\n",
            "  inflating: freedomtech/validate/IMG_20220118_073141.jpg  \n",
            "  inflating: freedomtech/validate/IMG_20220117_184918.jpg  \n",
            "  inflating: freedomtech/validate/IMG_20220117_184607.jpg  \n",
            "  inflating: freedomtech/validate/IMG_20220118_072843.jpg  \n",
            "  inflating: freedomtech/validate/IMG_20220117_184539.jpg  \n",
            "  inflating: freedomtech/validate/IMG_20220118_072632.jpg  \n",
            "  inflating: freedomtech/validate/IMG_20220117_184940.jpg  \n",
            "  inflating: freedomtech/validate/IMG_20220117_185008.jpg  \n",
            "  inflating: freedomtech/validate/IMG_20220118_073137.xml  \n",
            "  inflating: freedomtech/validate/IMG_20220117_184913.jpg  \n",
            "  inflating: freedomtech/validate/IMG_20220117_184247.jpg  \n",
            "  inflating: freedomtech/validate/IMG_20220118_073221.jpg  \n",
            "  inflating: freedomtech/validate/IMG_20220118_072802.jpg  \n",
            "  inflating: freedomtech/validate/IMG_20220118_073115.xml  \n",
            "  inflating: freedomtech/validate/IMG_20220117_184947.xml  \n",
            "  inflating: freedomtech/validate/IMG_20220117_184502.jpg  \n",
            "  inflating: freedomtech/validate/IMG_20220118_072519.jpg  \n",
            "  inflating: freedomtech/validate/IMG_20220118_073212.jpg  \n",
            "  inflating: freedomtech/validate/IMG_20220117_184502.xml  \n",
            "  inflating: freedomtech/validate/IMG_20220117_184247.xml  \n",
            "  inflating: freedomtech/validate/IMG_20220117_184709.jpg  \n",
            "  inflating: freedomtech/validate/IMG_20220117_184225.xml  \n",
            "  inflating: freedomtech/validate/IMG_20220118_072709.jpg  \n",
            "  inflating: freedomtech/validate/IMG_20220118_072843.xml  \n",
            "  inflating: freedomtech/validate/IMG_20220117_184844.jpg  \n",
            "  inflating: freedomtech/validate/IMG_20220117_184743.jpg  \n",
            "  inflating: freedomtech/validate/IMG_20220117_184304.jpg  \n",
            "  inflating: freedomtech/validate/IMG_20220117_184947.jpg  \n",
            "  inflating: freedomtech/validate/IMG_20220117_184554.xml  \n",
            "  inflating: freedomtech/validate/IMG_20220117_184317.xml  \n",
            "  inflating: freedomtech/validate/IMG_20220118_073004.jpg  \n",
            "  inflating: freedomtech/validate/IMG_20220118_073129.xml  \n",
            "  inflating: freedomtech/validate/IMG_20220118_073129.jpg  \n",
            "  inflating: freedomtech/validate/IMG_20220117_184558.xml  \n",
            "  inflating: freedomtech/validate/IMG_20220117_184243.xml  \n",
            "  inflating: freedomtech/validate/IMG_20220117_184251.jpg  \n",
            "  inflating: freedomtech/validate/IMG_20220117_185008.xml  \n",
            "  inflating: freedomtech/validate/IMG_20220118_074100.jpg  \n",
            "  inflating: freedomtech/validate/IMG_20220118_073137.jpg  \n",
            "  inflating: freedomtech/validate/IMG_20220118_072519.xml  \n",
            "  inflating: freedomtech/validate/IMG_20220117_184705.jpg  \n",
            "  inflating: freedomtech/validate/IMG_20220118_073212.xml  \n",
            "  inflating: freedomtech/validate/IMG_20220117_184439.jpg  \n",
            "  inflating: freedomtech/validate/IMG_20220117_184544.xml  \n",
            "  inflating: freedomtech/validate/IMG_20220117_184333.jpg  \n",
            "  inflating: freedomtech/validate/IMG_20220118_072648.jpg  \n",
            "  inflating: freedomtech/validate/IMG_20220117_184243.jpg  \n",
            "  inflating: freedomtech/validate/IMG_20220117_184614.xml  \n",
            "  inflating: freedomtech/validate/IMG_20220118_072826.jpg  \n",
            "  inflating: freedomtech/validate/IMG_20220117_184743.xml  \n",
            "  inflating: freedomtech/validate/IMG_20220118_074050.xml  \n",
            "  inflating: freedomtech/validate/IMG_20220118_072548.jpg  \n",
            "  inflating: freedomtech/validate/IMG_20220117_184333.xml  \n",
            "  inflating: freedomtech/validate/IMG_20220117_184726.xml  \n",
            "  inflating: freedomtech/validate/IMG_20220117_184240.xml  \n",
            "  inflating: freedomtech/validate/IMG_20220117_184626.xml  \n",
            "  inflating: freedomtech/validate/IMG_20220117_184257.jpg  \n",
            "  inflating: freedomtech/validate/IMG_20220118_072844.jpg  \n",
            "  inflating: freedomtech/validate/IMG_20220118_073025.jpg  \n",
            "  inflating: freedomtech/validate/IMG_20220118_072833.xml  \n",
            "  inflating: freedomtech/validate/IMG_20220118_072619.xml  \n",
            "  inflating: freedomtech/validate/IMG_20220117_184844.xml  \n",
            "  inflating: freedomtech/validate/IMG_20220118_072709.xml  \n",
            "  inflating: freedomtech/validate/IMG_20220118_074111.jpg  \n",
            "  inflating: freedomtech/validate/IMG_20220118_073036.jpg  \n",
            "  inflating: freedomtech/validate/IMG_20220118_073121.jpg  \n",
            "  inflating: freedomtech/validate/IMG_20220117_184309.jpg  \n",
            "  inflating: freedomtech/validate/IMG_20220118_074111.xml  \n",
            "  inflating: freedomtech/validate/IMG_20220117_184959.xml  \n",
            "  inflating: freedomtech/validate/IMG_20220117_184317.jpg  \n",
            "  inflating: freedomtech/validate/IMG_20220117_184736.xml  \n",
            "  inflating: freedomtech/validate/IMG_20220117_184614.jpg  \n",
            "  inflating: freedomtech/validate/IMG_20220118_073036.xml  \n",
            "  inflating: freedomtech/validate/IMG_20220117_184607.xml  \n",
            "  inflating: freedomtech/validate/IMG_20220118_074016.jpg  \n",
            "  inflating: freedomtech/validate/IMG_20220118_074040.jpg  \n",
            "  inflating: freedomtech/validate/IMG_20220118_072619.jpg  \n",
            "  inflating: freedomtech/validate/IMG_20220117_184855.xml  \n",
            "  inflating: freedomtech/validate/IMG_20220117_184455.jpg  \n",
            "  inflating: freedomtech/validate/IMG_20220117_184111.jpg  \n",
            "  inflating: freedomtech/validate/IMG_20220118_073025.xml  \n",
            "  inflating: freedomtech/validate/IMG_20220117_184439.xml  \n",
            "  inflating: freedomtech/validate/IMG_20220118_072833.jpg  \n",
            "  inflating: freedomtech/validate/IMG_20220117_184230.xml  \n",
            "  inflating: freedomtech/validate/IMG_20220117_184111.xml  \n",
            "  inflating: freedomtech/validate/IMG_20220117_184554.jpg  \n",
            "  inflating: freedomtech/validate/IMG_20220117_184259.xml  \n",
            "  inflating: freedomtech/validate/IMG_20220118_073004.xml  \n",
            "  inflating: freedomtech/validate/IMG_20220118_074040.xml  \n",
            "  inflating: freedomtech/validate/IMG_20220118_072648.xml  \n",
            "  inflating: freedomtech/validate/IMG_20220117_184723.xml  \n",
            "  inflating: freedomtech/validate/IMG_20220117_184304.xml  \n",
            "  inflating: freedomtech/validate/IMG_20220117_184455.xml  \n",
            "  inflating: freedomtech/validate/IMG_20220117_184931.xml  \n",
            "  inflating: freedomtech/validate/IMG_20220117_184230.jpg  \n",
            "  inflating: freedomtech/validate/IMG_20220117_184433.jpg  \n",
            "  inflating: freedomtech/validate/IMG_20220118_073221.xml  \n",
            "  inflating: freedomtech/validate/IMG_20220117_184539.xml  \n",
            "  inflating: freedomtech/validate/IMG_20220117_184956.xml  \n",
            "  inflating: freedomtech/validate/IMG_20220118_072844.xml  \n",
            "  inflating: freedomtech/validate/IMG_20220117_184203.jpg  \n",
            "  inflating: freedomtech/validate/IMG_20220118_073139.jpg  \n",
            "  inflating: freedomtech/validate/IMG_20220118_074050.jpg  \n",
            "  inflating: freedomtech/validate/IMG_20220117_184705.xml  \n",
            "  inflating: freedomtech/validate/IMG_20220117_184251.xml  \n",
            "  inflating: freedomtech/validate/IMG_20220117_184709.xml  \n",
            "  inflating: freedomtech/validate/IMG_20220117_184933.xml  \n",
            "  inflating: freedomtech/validate/IMG_20220117_184544.jpg  \n",
            "  inflating: freedomtech/validate/IMG_20220117_184320.jpg  \n",
            "  inflating: freedomtech/validate/IMG_20220117_184726.jpg  \n",
            "  inflating: freedomtech/validate/IMG_20220118_072548.xml  \n",
            "  inflating: freedomtech/validate/IMG_20220118_072642.jpg  \n",
            "  inflating: freedomtech/validate/IMG_20220117_184240.jpg  \n",
            "  inflating: freedomtech/validate/IMG_20220117_184610.jpg  \n",
            "  inflating: freedomtech/validate/IMG_20220118_074016.xml  \n",
            "  inflating: freedomtech/validate/IMG_20220117_184257.xml  \n",
            "  inflating: freedomtech/validate/IMG_20220117_184320.xml  \n",
            "  inflating: freedomtech/validate/IMG_20220118_072642.xml  \n",
            "  inflating: freedomtech/validate/IMG_20220118_073215.xml  \n",
            "  inflating: freedomtech/validate/IMG_20220117_184309.xml  \n",
            "  inflating: freedomtech/validate/IMG_20220117_184855.jpg  \n",
            "  inflating: freedomtech/validate/IMG_20220117_184940.xml  \n",
            "  inflating: freedomtech/validate/IMG_20220118_073139.xml  \n",
            "  inflating: freedomtech/validate/IMG_20220118_072826.xml  \n",
            "  inflating: freedomtech/validate/IMG_20220117_184225.jpg  \n",
            "  inflating: freedomtech/validate/IMG_20220117_184918.xml  \n",
            "  inflating: freedomtech/validate/IMG_20220117_184259.jpg  \n",
            "  inflating: freedomtech/validate/IMG_20220118_073215.jpg  \n",
            "  inflating: freedomtech/validate/IMG_20220118_074100.xml  \n",
            "  inflating: freedomtech/validate/IMG_20220117_184325.xml  \n",
            "  inflating: freedomtech/validate/IMG_20220118_074022.xml  \n",
            "  inflating: freedomtech/validate/IMG_20220117_184959.jpg  \n",
            "  inflating: freedomtech/validate/IMG_20220118_074022.jpg  \n",
            "  inflating: freedomtech/validate/IMG_20220118_073121.xml  \n",
            "  inflating: freedomtech/validate/IMG_20220117_184736.jpg  \n",
            "  inflating: freedomtech/validate/IMG_20220117_184956.jpg  \n",
            "  inflating: freedomtech/validate/IMG_20220117_184626.jpg  \n",
            "  inflating: freedomtech/validate/IMG_20220118_073141.xml  \n",
            "  inflating: freedomtech/validate/IMG_20220117_184723.jpg  \n",
            "  inflating: freedomtech/validate/IMG_20220118_072632.xml  \n",
            "  inflating: freedomtech/validate/IMG_20220117_184933.jpg  \n",
            "  inflating: freedomtech/validate/IMG_20220117_184433.xml  \n",
            "  inflating: freedomtech/validate/IMG_20220117_184558.jpg  \n",
            "  inflating: freedomtech/validate/IMG_20220118_073115.jpg  \n",
            "  inflating: freedomtech/validate/IMG_20220118_073208.jpg  \n",
            "  inflating: freedomtech/validate/IMG_20220117_184325.jpg  \n",
            "  inflating: freedomtech/validate/IMG_20220117_184610.xml  \n",
            "  inflating: freedomtech/validate/IMG_20220117_184203.xml  \n",
            "  inflating: freedomtech/validate/IMG_20220117_184931.jpg  \n",
            "  inflating: freedomtech/validate/IMG_20220117_184913.xml  \n",
            "  inflating: freedomtech/validate/IMG_20220118_073208.xml  \n",
            "  inflating: freedomtech/validate/IMG_20220118_072802.xml  \n"
          ]
        }
      ]
    },
    {
      "cell_type": "code",
      "execution_count": 5,
      "metadata": {
        "id": "WiAahdsQAdT7"
      },
      "outputs": [],
      "source": [
        "train_data = object_detector.DataLoader.from_pascal_voc(\n",
        "    'freedomtech/train',\n",
        "    'freedomtech/train',\n",
        "    ['esp8266', 'pico']\n",
        ")\n",
        "\n",
        "val_data = object_detector.DataLoader.from_pascal_voc(\n",
        "    'freedomtech/validate',\n",
        "    'freedomtech/validate',\n",
        "    ['esp8266', 'pico']\n",
        ")"
      ]
    },
    {
      "cell_type": "markdown",
      "metadata": {
        "id": "UNRhB8N7GHXj"
      },
      "source": [
        "### Step 2: Select a model architecture\n",
        "\n",
        "EfficientDet-Lite[0-4] are a family of mobile/IoT-friendly object detection models derived from the [EfficientDet](https://arxiv.org/abs/1911.09070) architecture.\n",
        "\n",
        "Here is the performance of each EfficientDet-Lite models compared to each others.\n",
        "\n",
        "| Model architecture | Size(MB)* | Latency(ms)** | Average Precision*** |\n",
        "|--------------------|-----------|---------------|----------------------|\n",
        "| EfficientDet-Lite0 | 4.4       | 146           | 25.69%               |\n",
        "| EfficientDet-Lite1 | 5.8       | 259           | 30.55%               |\n",
        "| EfficientDet-Lite2 | 7.2       | 396           | 33.97%               |\n",
        "| EfficientDet-Lite3 | 11.4      | 716           | 37.70%               |\n",
        "| EfficientDet-Lite4 | 19.9      | 1886          | 41.96%               |\n",
        "\n",
        "<i> * Size of the integer quantized models. <br/>\n",
        "** Latency measured on Raspberry Pi 4 using 4 threads on CPU. <br/>\n",
        "*** Average Precision is the mAP (mean Average Precision) on the COCO 2017 validation dataset.\n",
        "</i>\n",
        "\n",
        "In this notebook, we use EfficientDet-Lite0 to train our model. You can choose other model architectures depending on whether speed or accuracy is more important to you."
      ]
    },
    {
      "cell_type": "code",
      "execution_count": 6,
      "metadata": {
        "id": "GZOojrDHAY1J"
      },
      "outputs": [],
      "source": [
        "spec = model_spec.get('efficientdet_lite0')"
      ]
    },
    {
      "cell_type": "markdown",
      "metadata": {
        "id": "5aeDU4mIM4ft"
      },
      "source": [
        "### Step 3: Train the TensorFlow model with the training data.\n",
        "\n",
        "* Set `epochs = 20`, which means it will go through the training dataset 20 times. You can look at the validation accuracy during training and stop when you see validation loss (`val_loss`) stop decreasing to avoid overfitting.\n",
        "* Set `batch_size = 4` here so you will see that it takes 15 steps to go through the 62 images in the training dataset.\n",
        "* Set `train_whole_model=True` to fine-tune the whole model instead of just training the head layer to improve accuracy. The trade-off is that it may take longer to train the model."
      ]
    },
    {
      "cell_type": "code",
      "execution_count": 7,
      "metadata": {
        "colab": {
          "base_uri": "https://localhost:8080/"
        },
        "id": "_MClfpsJAfda",
        "outputId": "de30aca3-527d-41e8-a80b-40fb331ce83c"
      },
      "outputs": [
        {
          "output_type": "stream",
          "name": "stdout",
          "text": [
            "Epoch 1/20\n",
            "19/19 [==============================] - 121s 4s/step - det_loss: 1.7226 - cls_loss: 1.1302 - box_loss: 0.0118 - reg_l2_loss: 0.0630 - loss: 1.7856 - learning_rate: 0.0065 - gradient_norm: 1.8107 - val_det_loss: 1.6424 - val_cls_loss: 1.0987 - val_box_loss: 0.0109 - val_reg_l2_loss: 0.0630 - val_loss: 1.7054\n",
            "Epoch 2/20\n",
            "19/19 [==============================] - 73s 4s/step - det_loss: 1.6114 - cls_loss: 1.0738 - box_loss: 0.0108 - reg_l2_loss: 0.0630 - loss: 1.6743 - learning_rate: 0.0049 - gradient_norm: 2.1609 - val_det_loss: 1.5479 - val_cls_loss: 1.0054 - val_box_loss: 0.0109 - val_reg_l2_loss: 0.0630 - val_loss: 1.6109\n",
            "Epoch 3/20\n",
            "19/19 [==============================] - 74s 4s/step - det_loss: 1.4470 - cls_loss: 0.9480 - box_loss: 0.0100 - reg_l2_loss: 0.0630 - loss: 1.5100 - learning_rate: 0.0048 - gradient_norm: 2.5148 - val_det_loss: 1.4553 - val_cls_loss: 0.9533 - val_box_loss: 0.0100 - val_reg_l2_loss: 0.0630 - val_loss: 1.5183\n",
            "Epoch 4/20\n",
            "19/19 [==============================] - 74s 4s/step - det_loss: 1.2717 - cls_loss: 0.8089 - box_loss: 0.0093 - reg_l2_loss: 0.0630 - loss: 1.3347 - learning_rate: 0.0046 - gradient_norm: 3.2593 - val_det_loss: 1.2755 - val_cls_loss: 0.8152 - val_box_loss: 0.0092 - val_reg_l2_loss: 0.0630 - val_loss: 1.3385\n",
            "Epoch 5/20\n",
            "19/19 [==============================] - 113s 6s/step - det_loss: 1.1501 - cls_loss: 0.6962 - box_loss: 0.0091 - reg_l2_loss: 0.0630 - loss: 1.2131 - learning_rate: 0.0043 - gradient_norm: 3.5836 - val_det_loss: 1.1616 - val_cls_loss: 0.7172 - val_box_loss: 0.0089 - val_reg_l2_loss: 0.0630 - val_loss: 1.2246\n",
            "Epoch 6/20\n",
            "19/19 [==============================] - 74s 4s/step - det_loss: 1.0914 - cls_loss: 0.6493 - box_loss: 0.0088 - reg_l2_loss: 0.0630 - loss: 1.1544 - learning_rate: 0.0040 - gradient_norm: 3.1521 - val_det_loss: 1.1879 - val_cls_loss: 0.7727 - val_box_loss: 0.0083 - val_reg_l2_loss: 0.0630 - val_loss: 1.2509\n",
            "Epoch 7/20\n",
            "19/19 [==============================] - 74s 4s/step - det_loss: 1.0096 - cls_loss: 0.6150 - box_loss: 0.0079 - reg_l2_loss: 0.0630 - loss: 1.0726 - learning_rate: 0.0037 - gradient_norm: 4.0575 - val_det_loss: 1.1672 - val_cls_loss: 0.7272 - val_box_loss: 0.0088 - val_reg_l2_loss: 0.0630 - val_loss: 1.2303\n",
            "Epoch 8/20\n",
            "19/19 [==============================] - 72s 4s/step - det_loss: 0.9741 - cls_loss: 0.5807 - box_loss: 0.0079 - reg_l2_loss: 0.0630 - loss: 1.0371 - learning_rate: 0.0033 - gradient_norm: 3.4770 - val_det_loss: 1.0628 - val_cls_loss: 0.6631 - val_box_loss: 0.0080 - val_reg_l2_loss: 0.0630 - val_loss: 1.1258\n",
            "Epoch 9/20\n",
            "19/19 [==============================] - 76s 4s/step - det_loss: 0.9233 - cls_loss: 0.5652 - box_loss: 0.0072 - reg_l2_loss: 0.0630 - loss: 0.9863 - learning_rate: 0.0029 - gradient_norm: 3.5692 - val_det_loss: 1.0653 - val_cls_loss: 0.6423 - val_box_loss: 0.0085 - val_reg_l2_loss: 0.0630 - val_loss: 1.1283\n",
            "Epoch 10/20\n",
            "19/19 [==============================] - 112s 6s/step - det_loss: 0.9684 - cls_loss: 0.5745 - box_loss: 0.0079 - reg_l2_loss: 0.0630 - loss: 1.0315 - learning_rate: 0.0025 - gradient_norm: 3.9726 - val_det_loss: 1.0066 - val_cls_loss: 0.6022 - val_box_loss: 0.0081 - val_reg_l2_loss: 0.0630 - val_loss: 1.0696\n",
            "Epoch 11/20\n",
            "19/19 [==============================] - 75s 4s/step - det_loss: 0.8576 - cls_loss: 0.5033 - box_loss: 0.0071 - reg_l2_loss: 0.0630 - loss: 0.9206 - learning_rate: 0.0021 - gradient_norm: 3.3636 - val_det_loss: 1.0067 - val_cls_loss: 0.5909 - val_box_loss: 0.0083 - val_reg_l2_loss: 0.0630 - val_loss: 1.0697\n",
            "Epoch 12/20\n",
            "19/19 [==============================] - 76s 4s/step - det_loss: 0.9114 - cls_loss: 0.5378 - box_loss: 0.0075 - reg_l2_loss: 0.0630 - loss: 0.9745 - learning_rate: 0.0017 - gradient_norm: 4.2819 - val_det_loss: 0.9721 - val_cls_loss: 0.5683 - val_box_loss: 0.0081 - val_reg_l2_loss: 0.0630 - val_loss: 1.0351\n",
            "Epoch 13/20\n",
            "19/19 [==============================] - 75s 4s/step - det_loss: 0.8345 - cls_loss: 0.4894 - box_loss: 0.0069 - reg_l2_loss: 0.0630 - loss: 0.8975 - learning_rate: 0.0013 - gradient_norm: 3.7853 - val_det_loss: 0.9424 - val_cls_loss: 0.5574 - val_box_loss: 0.0077 - val_reg_l2_loss: 0.0630 - val_loss: 1.0055\n",
            "Epoch 14/20\n",
            "19/19 [==============================] - 76s 4s/step - det_loss: 0.8605 - cls_loss: 0.5048 - box_loss: 0.0071 - reg_l2_loss: 0.0630 - loss: 0.9236 - learning_rate: 9.6720e-04 - gradient_norm: 3.8381 - val_det_loss: 0.9331 - val_cls_loss: 0.5485 - val_box_loss: 0.0077 - val_reg_l2_loss: 0.0630 - val_loss: 0.9962\n",
            "Epoch 15/20\n",
            "19/19 [==============================] - 112s 6s/step - det_loss: 0.7950 - cls_loss: 0.4775 - box_loss: 0.0064 - reg_l2_loss: 0.0630 - loss: 0.8580 - learning_rate: 6.6368e-04 - gradient_norm: 3.5224 - val_det_loss: 0.9261 - val_cls_loss: 0.5459 - val_box_loss: 0.0076 - val_reg_l2_loss: 0.0630 - val_loss: 0.9891\n",
            "Epoch 16/20\n",
            "19/19 [==============================] - 75s 4s/step - det_loss: 0.8053 - cls_loss: 0.4756 - box_loss: 0.0066 - reg_l2_loss: 0.0630 - loss: 0.8684 - learning_rate: 4.1024e-04 - gradient_norm: 3.8589 - val_det_loss: 0.9184 - val_cls_loss: 0.5406 - val_box_loss: 0.0076 - val_reg_l2_loss: 0.0630 - val_loss: 0.9814\n",
            "Epoch 17/20\n",
            "19/19 [==============================] - 73s 4s/step - det_loss: 0.8247 - cls_loss: 0.4739 - box_loss: 0.0070 - reg_l2_loss: 0.0630 - loss: 0.8877 - learning_rate: 2.1381e-04 - gradient_norm: 4.0386 - val_det_loss: 0.9160 - val_cls_loss: 0.5409 - val_box_loss: 0.0075 - val_reg_l2_loss: 0.0630 - val_loss: 0.9791\n",
            "Epoch 18/20\n",
            "19/19 [==============================] - 76s 4s/step - det_loss: 0.8064 - cls_loss: 0.4844 - box_loss: 0.0064 - reg_l2_loss: 0.0630 - loss: 0.8695 - learning_rate: 7.9733e-05 - gradient_norm: 3.5051 - val_det_loss: 0.9159 - val_cls_loss: 0.5422 - val_box_loss: 0.0075 - val_reg_l2_loss: 0.0630 - val_loss: 0.9790\n",
            "Epoch 19/20\n",
            "19/19 [==============================] - 73s 4s/step - det_loss: 0.8494 - cls_loss: 0.4980 - box_loss: 0.0070 - reg_l2_loss: 0.0630 - loss: 0.9125 - learning_rate: 1.1679e-05 - gradient_norm: 4.0180 - val_det_loss: 0.9182 - val_cls_loss: 0.5441 - val_box_loss: 0.0075 - val_reg_l2_loss: 0.0630 - val_loss: 0.9812\n",
            "Epoch 20/20\n",
            "19/19 [==============================] - 110s 6s/step - det_loss: 0.8256 - cls_loss: 0.4882 - box_loss: 0.0067 - reg_l2_loss: 0.0630 - loss: 0.8886 - learning_rate: 1.1500e-05 - gradient_norm: 3.6903 - val_det_loss: 0.9206 - val_cls_loss: 0.5464 - val_box_loss: 0.0075 - val_reg_l2_loss: 0.0630 - val_loss: 0.9837\n"
          ]
        }
      ],
      "source": [
        "model = object_detector.create(train_data, model_spec=spec, batch_size=4, train_whole_model=True, epochs=20, validation_data=val_data)"
      ]
    },
    {
      "cell_type": "markdown",
      "metadata": {
        "id": "KB4hKeerMmh4"
      },
      "source": [
        "### Step 4. Evaluate the model with the validation data.\n",
        "\n",
        "After training the object detection model using the images in the training dataset, use the 10 images in the validation dataset to evaluate how the model performs against new data it has never seen before.\n",
        "\n",
        "As the default batch size is 64, it will take 1 step to go through the 10 images in the validation dataset.\n",
        "\n",
        "The evaluation metrics are same as [COCO](https://cocodataset.org/#detection-eval)."
      ]
    },
    {
      "cell_type": "code",
      "execution_count": 8,
      "metadata": {
        "colab": {
          "base_uri": "https://localhost:8080/"
        },
        "id": "OUqEpcYwAg8L",
        "outputId": "c59f59f1-e97a-4489-c02d-844cfbfa1bc2"
      },
      "outputs": [
        {
          "output_type": "stream",
          "name": "stdout",
          "text": [
            "2/2 [==============================] - 45s 3s/step\n",
            "\n"
          ]
        },
        {
          "output_type": "execute_result",
          "data": {
            "text/plain": [
              "{'AP': 0.3995251,\n",
              " 'AP50': 0.6755185,\n",
              " 'AP75': 0.47726184,\n",
              " 'AP_/esp8266': 0.39452982,\n",
              " 'AP_/pico': 0.40452036,\n",
              " 'APl': 0.3995251,\n",
              " 'APm': -1.0,\n",
              " 'APs': -1.0,\n",
              " 'ARl': 0.5041818,\n",
              " 'ARm': -1.0,\n",
              " 'ARmax1': 0.44390908,\n",
              " 'ARmax10': 0.48327273,\n",
              " 'ARmax100': 0.5041818,\n",
              " 'ARs': -1.0}"
            ]
          },
          "metadata": {},
          "execution_count": 8
        }
      ],
      "source": [
        "model.evaluate(val_data)"
      ]
    },
    {
      "cell_type": "markdown",
      "metadata": {
        "id": "NARVYk9rGLIl"
      },
      "source": [
        "### Step 5: Export as a TensorFlow Lite model.\n",
        "\n",
        "Export the trained object detection model to the TensorFlow Lite format by specifying which folder you want to export the quantized model to. The default post-training quantization technique is [full integer quantization](https://www.tensorflow.org/lite/performance/post_training_integer_quant). This allows the TensorFlow Lite model to be smaller, run faster on Raspberry Pi CPU and also compatible with the Google Coral EdgeTPU."
      ]
    },
    {
      "cell_type": "code",
      "execution_count": 9,
      "metadata": {
        "id": "_u3eFxoBAiqE"
      },
      "outputs": [],
      "source": [
        "model.export(export_dir='.', tflite_filename='android.tflite')"
      ]
    },
    {
      "cell_type": "markdown",
      "metadata": {
        "id": "JZcBmEigOCO3"
      },
      "source": [
        "### Step 6:  Evaluate the TensorFlow Lite model.\n",
        "\n",
        "Several factors can affect the model accuracy when exporting to TFLite:\n",
        "* [Quantization](https://www.tensorflow.org/lite/performance/model_optimization) helps shrinking the model size by 4 times at the expense of some accuracy drop.\n",
        "* The original TensorFlow model uses per-class [non-max supression (NMS)](https://www.coursera.org/lecture/convolutional-neural-networks/non-max-suppression-dvrjH) for post-processing, while the TFLite model uses global NMS that's much faster but less accurate.\n",
        "Keras outputs maximum 100 detections while tflite outputs maximum 25 detections.\n",
        "\n",
        "Therefore you'll have to evaluate the exported TFLite model and compare its accuracy with the original TensorFlow model."
      ]
    },
    {
      "cell_type": "markdown",
      "metadata": {
        "id": "rzF6u0FZTAjF"
      },
      "source": [
        "Before compiling the `.tflite` file for the Edge TPU, it's important to consider whether your model will fit into the Edge TPU memory. \n",
        "\n",
        "The Edge TPU has approximately 8 MB of SRAM for [caching model paramaters](https://coral.ai/docs/edgetpu/compiler/#parameter-data-caching), so any model close to or over 8 MB will not fit onto the Edge TPU memory. That means the inference times are longer, because some model parameters must be fetched from the host system memory.\n",
        "\n",
        "One way to elimiate the extra latency is to use [model pipelining](https://coral.ai/docs/edgetpu/pipeline/), which splits the model into segments that can run on separate Edge TPUs in series. This can significantly reduce the latency for big models.\n",
        "\n",
        "The following table provides recommendations for the number of Edge TPUs to use with each EfficientDet-Lite model.\n",
        "\n",
        "| Model architecture | Minimum TPUs | Recommended TPUs\n",
        "|--------------------|-------|-------|\n",
        "| EfficientDet-Lite0 | 1     | 1     |\n",
        "| EfficientDet-Lite1 | 1     | 1     |\n",
        "| EfficientDet-Lite2 | 1     | 2     |\n",
        "| EfficientDet-Lite3 | 2     | 2     |\n",
        "| EfficientDet-Lite4 | 2     | 3     |\n",
        "\n",
        "If you need extra Edge TPUs for your model, then update `NUMBER_OF_TPUS` here:"
      ]
    },
    {
      "cell_type": "markdown",
      "metadata": {
        "id": "pJYXucYWTGqZ"
      },
      "source": [
        "Finally, we'll copy the metadata, including the label file, from the original TensorFlow Lite model to the EdgeTPU model."
      ]
    }
  ],
  "metadata": {
    "accelerator": "GPU",
    "colab": {
      "collapsed_sections": [],
      "name": "Model_Maker_Object_Detection.ipynb",
      "provenance": []
    },
    "kernelspec": {
      "display_name": "Python 3",
      "name": "python3"
    },
    "language_info": {
      "name": "python"
    }
  },
  "nbformat": 4,
  "nbformat_minor": 0
}